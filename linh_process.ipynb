{
 "cells": [
  {
   "cell_type": "code",
   "execution_count": 23,
   "metadata": {},
   "outputs": [],
   "source": [
    "import torch\n",
    "import cv2\n",
    "from pytorch_grad_cam import (\n",
    "    GradCAM, HiResCAM, ScoreCAM, GradCAMPlusPlus,\n",
    "    AblationCAM, XGradCAM, EigenCAM, EigenGradCAM,\n",
    "    LayerCAM, FullGrad, GradCAMElementWise\n",
    ")\n",
    "from pytorch_grad_cam import GuidedBackpropReLUModel\n",
    "from pytorch_grad_cam.utils.image import (\n",
    "    show_cam_on_image, deprocess_image, preprocess_image\n",
    ")\n",
    "from pytorch_grad_cam.utils.model_targets import ClassifierOutputTarget\n",
    "import numpy as np\n",
    "from torchvision.transforms import Compose, Normalize, ToTensor\n",
    "import os "
   ]
  },
  {
   "cell_type": "code",
   "execution_count": 1,
   "metadata": {},
   "outputs": [],
   "source": [
    "import torch\n",
    "import cv2\n",
    "import numpy as np\n",
    "from torchvision.transforms import Compose, Normalize, ToTensor\n",
    "from pytorch_grad_cam import (\n",
    "    GradCAM, HiResCAM, ScoreCAM, GradCAMPlusPlus,\n",
    "    AblationCAM, XGradCAM, EigenCAM, EigenGradCAM,\n",
    "    LayerCAM, FullGrad, GradCAMElementWise\n",
    ")\n",
    "from pytorch_grad_cam import GuidedBackpropReLUModel\n",
    "from pytorch_grad_cam.utils.image import (\n",
    "    show_cam_on_image, deprocess_image, preprocess_image\n",
    ")\n",
    "import os \n",
    "\n",
    "def preprocess_image(img: np.ndarray, mean=[0.5, 0.5, 0.5], std=[0.5, 0.5, 0.5]) -> torch.Tensor:\n",
    "    preprocessing = Compose([ToTensor(), Normalize(mean=mean, std=std)])\n",
    "    return preprocessing(img.copy()).unsqueeze(0)\n",
    "\n",
    "def deprocess_image(img):\n",
    "    img = (img - np.mean(img)) / (np.std(img) + 1e-5)\n",
    "    img = img * 0.1 + 0.5\n",
    "    img = np.clip(img, 0, 1)\n",
    "    return np.uint8(img * 255)\n",
    "\n",
    "def visulize_feature(img_file , model, target_layers):\n",
    "    targets = None\n",
    "\n",
    "    # Read image and preprocess\n",
    "    rgb_img = cv2.imread(img_file, 1)[:, :, ::-1]\n",
    "    rgb_img = np.float32(rgb_img) / 255\n",
    "    input_tensor = preprocess_image(rgb_img, mean=[0.485, 0.456, 0.406], std=[0.229, 0.224, 0.225])\n",
    "\n",
    "    # visualize feature using gradcam\n",
    "    cam_algorithm = GradCAM\n",
    "    with cam_algorithm(model=model, target_layers=target_layers, use_cuda=False) as cam:\n",
    "        cam.batch_size = 32\n",
    "        grayscale_cam = cam(input_tensor=input_tensor, targets=targets, aug_smooth=True, eigen_smooth=True)\n",
    "        grayscale_cam = grayscale_cam[0, :]\n",
    "\n",
    "        cam_image = show_cam_on_image(rgb_img, grayscale_cam, use_rgb=True)\n",
    "        cam_image = cv2.cvtColor(cam_image, cv2.COLOR_RGB2BGR)\n",
    "\n",
    "        base_name, ext = os.path.splitext(img_file)\n",
    "        if ext in ['.jpg', '.png', '.jpeg']:\n",
    "            new_img_file = f\"{base_name}_demo{ext}\"\n",
    "            cv2.imwrite(new_img_file, cam_image)\n",
    "            print(\"Successfull save image\")\n",
    "        else:\n",
    "            print(\"Invalid file extension\")\n"
   ]
  },
  {
   "cell_type": "code",
   "execution_count": 22,
   "metadata": {},
   "outputs": [
    {
     "name": "stdout",
     "output_type": "stream",
     "text": [
      "/image_test/demo_demo/jpg\n"
     ]
    }
   ],
   "source": [
    "# import os \n",
    "# str = './image_test/demo.jpg'\n",
    "# extention = ['jpg', 'png', 'jpeg']\n",
    "# str_split = str.split('.')\n",
    "# if str_split[-1] in extention:\n",
    "#     str_split[-2] =  str_split[-2] + '_demo'\n",
    "# str_result = os.path.join(*str_split)\n",
    "# print(str_result)\n",
    "\n",
    "\n",
    "import os \n",
    "\n",
    "file_path = './image_test/demo.jpg'\n",
    "base_name, ext = os.path.splitext(file_path)\n",
    "\n",
    "if ext in ['.jpg', '.png', '.jpeg']:\n",
    "    new_file_path = f\"{base_name}_demo{ext}\"\n",
    "    print(new_file_path)\n",
    "else:\n",
    "    print(\"Invalid file extension\")\n"
   ]
  },
  {
   "cell_type": "code",
   "execution_count": null,
   "metadata": {},
   "outputs": [],
   "source": []
  }
 ],
 "metadata": {
  "kernelspec": {
   "display_name": "ocr_env",
   "language": "python",
   "name": "python3"
  },
  "language_info": {
   "codemirror_mode": {
    "name": "ipython",
    "version": 3
   },
   "file_extension": ".py",
   "mimetype": "text/x-python",
   "name": "python",
   "nbconvert_exporter": "python",
   "pygments_lexer": "ipython3",
   "version": "3.10.12"
  },
  "orig_nbformat": 4
 },
 "nbformat": 4,
 "nbformat_minor": 2
}
